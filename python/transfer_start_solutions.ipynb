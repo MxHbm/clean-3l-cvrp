{
 "cells": [
  {
   "cell_type": "code",
   "execution_count": 7,
   "metadata": {},
   "outputs": [],
   "source": [
    "import os\n",
    "import shutil"
   ]
  },
  {
   "cell_type": "code",
   "execution_count": 9,
   "metadata": {},
   "outputs": [
    {
     "name": "stdout",
     "output_type": "stream",
     "text": [
      "File StartSolution-012_n020_m200_bt100.json copied succesfully\n",
      "File StartSolution-038_n020_m200_bt10.json copied succesfully\n",
      "File StartSolution-039_n020_m200_bt10.json copied succesfully\n",
      "File StartSolution-052_n020_m200_bt10.json copied succesfully\n",
      "File StartSolution-054_n020_m200_bt10.json copied succesfully\n",
      "File StartSolution-059_n020_m200_bt100.json copied succesfully\n",
      "File StartSolution-069_n060_m200_bt10.json copied succesfully\n",
      "File StartSolution-076_n060_m200_bt3.json copied succesfully\n",
      "File StartSolution-081_n060_m200_bt10.json copied succesfully\n",
      "File StartSolution-086_n060_m200_bt100.json copied succesfully\n",
      "File StartSolution-116_n060_m200_bt100.json copied succesfully\n",
      "File StartSolution-117_n060_m200_bt100.json copied succesfully\n",
      "File StartSolution-126_n060_m200_bt10.json copied succesfully\n",
      "File StartSolution-137_n060_m200_bt3.json copied succesfully\n",
      "File StartSolution-141_n060_m200_bt10.json copied succesfully\n",
      "File StartSolution-149_n060_m200_bt100.json copied succesfully\n",
      "File StartSolution-156_n060_m200_bt10.json copied succesfully\n",
      "File StartSolution-161_n060_m200_bt100.json copied succesfully\n",
      "File StartSolution-172_n060_m200_bt10.json copied succesfully\n",
      "File StartSolution-204_n100_m200_bt10.json copied succesfully\n",
      "File StartSolution-215_n100_m200_bt3.json copied succesfully\n",
      "File StartSolution-227_n100_m200_bt3.json copied succesfully\n",
      "File StartSolution-228_n100_m200_bt3.json copied succesfully\n",
      "File StartSolution-245_n100_m200_bt3.json copied succesfully\n",
      "File StartSolution-272_n100_m200_bt3.json copied succesfully\n",
      "File StartSolution-276_n100_m200_bt10.json copied succesfully\n",
      "File StartSolution-294_n100_m200_bt10.json copied succesfully\n",
      "File StartSolution-297_n100_m200_bt100.json copied succesfully\n",
      "File StartSolution-299_n100_m200_bt100.json copied succesfully\n",
      "File StartSolution-373_n060_m400_bt100.json copied succesfully\n",
      "File StartSolution-386_n060_m400_bt100.json copied succesfully\n",
      "File StartSolution-390_n060_m400_bt100.json copied succesfully\n",
      "File StartSolution-397_n060_m400_bt10.json copied succesfully\n",
      "File StartSolution-415_n060_m400_bt10.json copied succesfully\n",
      "File StartSolution-423_n060_m400_bt3.json copied succesfully\n",
      "File StartSolution-438_n060_m400_bt3.json copied succesfully\n",
      "File StartSolution-499_n100_m400_bt3.json copied succesfully\n",
      "File StartSolution-527_n100_m400_bt3.json copied succesfully\n",
      "File StartSolution-529_n100_m400_bt3.json copied succesfully\n",
      "File StartSolution-541_n100_m400_bt3.json copied succesfully\n",
      "File StartSolution-542_n100_m400_bt3.json copied succesfully\n",
      "File StartSolution-568_n100_m400_bt100.json copied succesfully\n",
      "File StartSolution-578_n100_m400_bt10.json copied succesfully\n",
      "File StartSolution-595_n100_m400_bt10.json copied succesfully\n",
      "File StartSolution-600_n100_m400_bt100.json copied succesfully\n"
     ]
    }
   ],
   "source": [
    "solution_folder_path = r\"C:\\Users\\Administrator\\Documents\\3l-cvrp\\data\\output\\3l-cvrp\\all-constraints-train-data-classifier\\krebs_28880_600_60\"\n",
    "new_folder_path= r\"C:\\Users\\Administrator\\Documents\\3l-cvrp\\data\\input\\3l-cvrp\\start_solutions_krebs\\Complete\"\n",
    "for file in os.listdir(solution_folder_path):\n",
    "    for sub_file in os.listdir(os.path.join(solution_folder_path,file)):\n",
    "        if(sub_file.split(\"-\")[0] == \"StartSolution\"):\n",
    "            try:\n",
    "                shutil.copy(os.path.join(solution_folder_path,file,sub_file),os.path.join(new_folder_path,sub_file))\n",
    "                print(f\"File {sub_file} copied succesfully\")\n",
    "            except shutil.SameFileError:\n",
    "                print(\"Something \")\n",
    "        "
   ]
  }
 ],
 "metadata": {
  "kernelspec": {
   "display_name": "base",
   "language": "python",
   "name": "python3"
  },
  "language_info": {
   "codemirror_mode": {
    "name": "ipython",
    "version": 3
   },
   "file_extension": ".py",
   "mimetype": "text/x-python",
   "name": "python",
   "nbconvert_exporter": "python",
   "pygments_lexer": "ipython3",
   "version": "3.11.7"
  }
 },
 "nbformat": 4,
 "nbformat_minor": 2
}
